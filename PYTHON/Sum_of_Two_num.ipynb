{
  "nbformat": 4,
  "nbformat_minor": 0,
  "metadata": {
    "colab": {
      "provenance": [],
      "authorship_tag": "ABX9TyMSOEa/geuE0DlHbq/IGRwK",
      "include_colab_link": true
    },
    "kernelspec": {
      "name": "python3",
      "display_name": "Python 3"
    },
    "language_info": {
      "name": "python"
    }
  },
  "cells": [
    {
      "cell_type": "markdown",
      "metadata": {
        "id": "view-in-github",
        "colab_type": "text"
      },
      "source": [
        "<a href=\"https://colab.research.google.com/github/aswin-14/Extra-Mile/blob/main/PYTHON/Sum_of_Two_num.ipynb\" target=\"_parent\"><img src=\"https://colab.research.google.com/assets/colab-badge.svg\" alt=\"Open In Colab\"/></a>"
      ]
    },
    {
      "cell_type": "code",
      "execution_count": 2,
      "metadata": {
        "colab": {
          "base_uri": "https://localhost:8080/"
        },
        "id": "OEj9kexcNi5x",
        "outputId": "0f6ed7fe-74db-41d2-c95f-c255e4a09bd4"
      },
      "outputs": [
        {
          "output_type": "stream",
          "name": "stdout",
          "text": [
            "Enter the number3\n",
            "Enter the second NUmber4\n",
            "Sum of the numbers is  7\n"
          ]
        }
      ],
      "source": [
        "a=int(input(\"Enter the number\"))\n",
        "b=int(input(\"Enter the second NUmber\"))\n",
        "##Sum\n",
        "c=a+b\n",
        "print(\"Sum of the numbers is \",c)"
      ]
    }
  ]
}