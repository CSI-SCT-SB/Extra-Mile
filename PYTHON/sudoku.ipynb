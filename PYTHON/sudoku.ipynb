{
  "nbformat": 4,
  "nbformat_minor": 0,
  "metadata": {
    "colab": {
      "provenance": []
    },
    "kernelspec": {
      "name": "python3",
      "display_name": "Python 3"
    },
    "language_info": {
      "name": "python"
    }
  },
  "cells": [
    {
      "cell_type": "code",
      "execution_count": 1,
      "metadata": {
        "colab": {
          "base_uri": "https://localhost:8080/"
        },
        "id": "oh-VNjyKccRM",
        "outputId": "89f6404e-7b42-4660-c1d9-586850b15232"
      },
      "outputs": [
        {
          "output_type": "stream",
          "name": "stdout",
          "text": [
            "press enter to start\n",
            "[[3 1 6 5 7 8 4 9 2]\n",
            " [5 2 9 1 3 4 7 6 8]\n",
            " [4 8 7 6 2 9 5 3 1]\n",
            " [2 6 3 4 1 5 9 8 7]\n",
            " [9 7 4 8 6 3 1 2 5]\n",
            " [8 5 1 7 9 2 6 4 3]\n",
            " [1 3 8 9 4 7 2 5 6]\n",
            " [6 9 2 3 5 1 8 7 4]\n",
            " [7 4 5 2 8 6 3 1 9]]\n",
            "Time elapsed 0.04105854034423828 seconds\n"
          ]
        }
      ],
      "source": [
        "import numpy as np\n",
        "import time\n",
        "\n",
        "numbers = np.array([1, 2, 3, 4, 5, 6, 7, 8, 9])\n",
        "\n",
        "board =  np.array([[3, 0, 6, 5, 0, 8, 4, 0, 0], \n",
        "                    [5, 2, 0, 0, 0, 0, 0, 0, 0], \n",
        "                    [0, 8, 7, 0, 0, 0, 0, 3, 1], \n",
        "                    [0, 0, 3, 0, 1, 0, 0, 8, 0], \n",
        "                    [9, 0, 0, 8, 6, 3, 0, 0, 5], \n",
        "                    [0, 5, 0, 0, 9, 0, 6, 0, 0], \n",
        "                    [1, 3, 0, 0, 0, 0, 2, 5, 0], \n",
        "                    [0, 0, 0, 0, 0, 0, 0, 7, 4], \n",
        "                    [0, 0, 5, 2, 0, 6, 3, 0, 0]])\n",
        "\n",
        "def checker(board, position, number):\n",
        "    x, y = position\n",
        "    for i in board[x]:\n",
        "        if i != 0:\n",
        "            if i==number:return False\n",
        "    for i in board:\n",
        "        if i[y] != 0:\n",
        "            if i[y]==number:return False\n",
        "    x = 3*int(x/3)\n",
        "    y = 3*int(y/3)\n",
        "    three=board[x:x+3, y:y+3]\n",
        "    for i in three:\n",
        "        for j in i:\n",
        "            if j==0:\n",
        "                continue\n",
        "            if j==number:return False\n",
        "    return True\n",
        "\n",
        "def sudokusolve():\n",
        "    for x, row in enumerate(board):\n",
        "        for y, num in enumerate(row):\n",
        "            if num!=0:\n",
        "                continue\n",
        "            for i in numbers:\n",
        "                if checker(board, (x, y), i):\n",
        "                    board[x, y] = i\n",
        "                    sudokusolve()\n",
        "            board[x, y] = 0\n",
        "            return\n",
        "    print(board)\n",
        "    print('Time elapsed', str(time.time()-stime), 'seconds')\n",
        "\n",
        "input('press enter to start')\n",
        "stime = time.time()           \n",
        "sudokusolve()"
      ]
    }
  ]
}